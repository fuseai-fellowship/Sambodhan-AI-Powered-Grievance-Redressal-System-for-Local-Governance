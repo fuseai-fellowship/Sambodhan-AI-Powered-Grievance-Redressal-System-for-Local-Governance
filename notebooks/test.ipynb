{
 "cells": [
  {
   "cell_type": "code",
   "execution_count": 1,
   "id": "4e2752b4",
   "metadata": {},
   "outputs": [],
   "source": [
    "import httpx\n",
    "import os\n",
    "from typing import Dict, Any\n",
    "from fastapi import APIRouter, Depends, HTTPException, Query\n",
    "from sqlalchemy.orm import Session\n",
    "from sqlalchemy.exc import IntegrityError\n",
    "from sqlalchemy import and_, or_\n",
    "from typing import Optional"
   ]
  },
  {
   "cell_type": "code",
   "execution_count": 2,
   "id": "dad7e319",
   "metadata": {},
   "outputs": [],
   "source": [
    "URGENCY_API_BASE = os.getenv(\"URGENCY_API_BASE\", \"https://kar137-sambodhan-urgency-classifier-space.hf.space\")\n",
    "DEPARTMENT_API_BASE = os.getenv(\"DEPARTMENT_API_BASE\", \"https://mr-kush-sambodhan-department-classifier.hf.space\")\n",
    "CLASSIFIER_TIMEOUT_SECONDS = int(os.getenv(\"CLASSIFIER_TIMEOUT_SECONDS\", \"30\"))\n"
   ]
  },
  {
   "cell_type": "code",
   "execution_count": 3,
   "id": "483de8e6",
   "metadata": {},
   "outputs": [],
   "source": [
    "async def predict_urgency(text: str) -> Dict[str, Any]:\n",
    "    \"\"\"\n",
    "    Call external urgency classifier API.\n",
    "    Returns: {\"urgency\": int, \"confidence\": float}\n",
    "    \"\"\"\n",
    "    try:\n",
    "        async with httpx.AsyncClient(timeout=CLASSIFIER_TIMEOUT_SECONDS) as client:\n",
    "            response = await client.post(\n",
    "                f\"{URGENCY_API_BASE}/predict_urgency\",\n",
    "                json={\"text\": text}\n",
    "            )\n",
    "            response.raise_for_status()\n",
    "            result = response.json()\n",
    "            # Map model label to int code\n",
    "            label_map = {\n",
    "                \"NORMAL\": 0,\n",
    "                \"URGENT\": 1,\n",
    "                \"HIGHLY URGENT\": 2\n",
    "            }\n",
    "            urgency_code = label_map.get(result.get(\"label\", \"\").upper(), 0)\n",
    "            return {\n",
    "                \"urgency\": urgency_code,\n",
    "                \"confidence\": result.get(\"confidence\", 0.0),\n",
    "                \"label\": result.get(\"label\", \"\")\n",
    "            }\n",
    "    except Exception as e:\n",
    "        print(f\"Urgency classifier error: {str(e)}\")\n",
    "        # Fallback to default urgency if classifier fails\n",
    "        return {\"urgency\": 0, \"confidence\": 0.0}\n",
    "\n"
   ]
  },
  {
   "cell_type": "code",
   "execution_count": 4,
   "id": "85f05649",
   "metadata": {},
   "outputs": [],
   "source": [
    "\n",
    "async def predict_department(text: str) -> Dict[str, Any]:\n",
    "    \"\"\"\n",
    "    Call external department classifier API.\n",
    "    Returns: {\"department\": int, \"confidence\": float}\n",
    "    \"\"\"\n",
    "    try:\n",
    "        async with httpx.AsyncClient(timeout=CLASSIFIER_TIMEOUT_SECONDS) as client:\n",
    "            response = await client.post(\n",
    "                f\"{DEPARTMENT_API_BASE}\",\n",
    "                json={\"text\": text, \"return_probabilities\": False}\n",
    "            )\n",
    "            response.raise_for_status()\n",
    "            result = response.json()\n",
    "            \n",
    "            # Map string department to int code\n",
    "            dept_map = {\n",
    "                \"infrastructure\": 1,\n",
    "                \"health\": 2,\n",
    "                \"education\": 3,\n",
    "                \"environment\": 4\n",
    "            }\n",
    "            dept_code = dept_map.get(result.get(\"department\", \"\").lower(), 0)\n",
    "            \n",
    "            return {\n",
    "                \"department\": dept_code,\n",
    "                \"confidence\": result.get(\"confidence\", 0.0)\n",
    "            }\n",
    "    except Exception as e:\n",
    "        print(f\"Department classifier error: {str(e)}\")\n",
    "        # Fallback to unclassified if classifier fails\n",
    "        return {\"department\": 0, \"confidence\": 0.0}\n",
    "\n"
   ]
  },
  {
   "cell_type": "code",
   "execution_count": 5,
   "id": "55824cc8",
   "metadata": {},
   "outputs": [],
   "source": [
    "text = \"there is no electricity. this is very urgent\"  # Example grievance text"
   ]
  },
  {
   "cell_type": "code",
   "execution_count": 6,
   "id": "0a69e441",
   "metadata": {},
   "outputs": [
    {
     "name": "stdout",
     "output_type": "stream",
     "text": [
      "Department classifier error: Client error '405 Method Not Allowed' for url 'https://mr-kush-sambodhan-department-classifier.hf.space'\n",
      "For more information check: https://developer.mozilla.org/en-US/docs/Web/HTTP/Status/405\n",
      "Department Prediction: {'department': 0, 'confidence': 0.0}\n",
      "Urgency Prediction: {'urgency': 2, 'confidence': 0.9883, 'label': 'HIGHLY URGENT'}\n"
     ]
    }
   ],
   "source": [
    "department_result = await predict_department(text)\n",
    "urgency_result = await predict_urgency(text)\n",
    "print(\"Department Prediction:\", department_result)\n",
    "print(\"Urgency Prediction:\", urgency_result)"
   ]
  }
 ],
 "metadata": {
  "kernelspec": {
   "display_name": ".venv",
   "language": "python",
   "name": "python3"
  },
  "language_info": {
   "codemirror_mode": {
    "name": "ipython",
    "version": 3
   },
   "file_extension": ".py",
   "mimetype": "text/x-python",
   "name": "python",
   "nbconvert_exporter": "python",
   "pygments_lexer": "ipython3",
   "version": "3.13.7"
  }
 },
 "nbformat": 4,
 "nbformat_minor": 5
}
